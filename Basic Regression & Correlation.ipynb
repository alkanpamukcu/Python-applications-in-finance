{
 "cells": [
  {
   "cell_type": "code",
   "execution_count": 30,
   "metadata": {},
   "outputs": [],
   "source": [
    "import pandas as pd\n",
    "import numpy as np\n",
    "import seaborn as sns\n",
    "import scipy.stats as scs\n",
    "import statsmodels.api as sm\n",
    "import statsmodels.tsa.api as smt\n",
    "import yfinance as yf\n",
    "import matplotlib.pyplot as plt\n",
    "%matplotlib inline"
   ]
  },
  {
   "cell_type": "code",
   "execution_count": 19,
   "metadata": {},
   "outputs": [
    {
     "data": {
      "text/html": [
       "<div>\n",
       "<style scoped>\n",
       "    .dataframe tbody tr th:only-of-type {\n",
       "        vertical-align: middle;\n",
       "    }\n",
       "\n",
       "    .dataframe tbody tr th {\n",
       "        vertical-align: top;\n",
       "    }\n",
       "\n",
       "    .dataframe thead th {\n",
       "        text-align: right;\n",
       "    }\n",
       "</style>\n",
       "<table border=\"1\" class=\"dataframe\">\n",
       "  <thead>\n",
       "    <tr style=\"text-align: right;\">\n",
       "      <th></th>\n",
       "      <th>sp500</th>\n",
       "      <th>vix</th>\n",
       "    </tr>\n",
       "    <tr>\n",
       "      <th>Date</th>\n",
       "      <th></th>\n",
       "      <th></th>\n",
       "    </tr>\n",
       "  </thead>\n",
       "  <tbody>\n",
       "    <tr>\n",
       "      <td>1999-12-31</td>\n",
       "      <td>1469.250000</td>\n",
       "      <td>24.639999</td>\n",
       "    </tr>\n",
       "    <tr>\n",
       "      <td>2000-01-03</td>\n",
       "      <td>1455.219971</td>\n",
       "      <td>24.209999</td>\n",
       "    </tr>\n",
       "    <tr>\n",
       "      <td>2000-01-04</td>\n",
       "      <td>1399.420044</td>\n",
       "      <td>27.010000</td>\n",
       "    </tr>\n",
       "    <tr>\n",
       "      <td>2000-01-05</td>\n",
       "      <td>1402.109985</td>\n",
       "      <td>26.410000</td>\n",
       "    </tr>\n",
       "    <tr>\n",
       "      <td>2000-01-06</td>\n",
       "      <td>1403.449951</td>\n",
       "      <td>25.730000</td>\n",
       "    </tr>\n",
       "    <tr>\n",
       "      <td>...</td>\n",
       "      <td>...</td>\n",
       "      <td>...</td>\n",
       "    </tr>\n",
       "    <tr>\n",
       "      <td>2020-03-25</td>\n",
       "      <td>2475.560059</td>\n",
       "      <td>63.950001</td>\n",
       "    </tr>\n",
       "    <tr>\n",
       "      <td>2020-03-26</td>\n",
       "      <td>2630.070068</td>\n",
       "      <td>61.000000</td>\n",
       "    </tr>\n",
       "    <tr>\n",
       "      <td>2020-03-27</td>\n",
       "      <td>2541.469971</td>\n",
       "      <td>65.540001</td>\n",
       "    </tr>\n",
       "    <tr>\n",
       "      <td>2020-03-30</td>\n",
       "      <td>2626.649902</td>\n",
       "      <td>57.080002</td>\n",
       "    </tr>\n",
       "    <tr>\n",
       "      <td>2020-03-31</td>\n",
       "      <td>2584.590088</td>\n",
       "      <td>53.540001</td>\n",
       "    </tr>\n",
       "  </tbody>\n",
       "</table>\n",
       "<p>5094 rows × 2 columns</p>\n",
       "</div>"
      ],
      "text/plain": [
       "                  sp500        vix\n",
       "Date                              \n",
       "1999-12-31  1469.250000  24.639999\n",
       "2000-01-03  1455.219971  24.209999\n",
       "2000-01-04  1399.420044  27.010000\n",
       "2000-01-05  1402.109985  26.410000\n",
       "2000-01-06  1403.449951  25.730000\n",
       "...                 ...        ...\n",
       "2020-03-25  2475.560059  63.950001\n",
       "2020-03-26  2630.070068  61.000000\n",
       "2020-03-27  2541.469971  65.540001\n",
       "2020-03-30  2626.649902  57.080002\n",
       "2020-03-31  2584.590088  53.540001\n",
       "\n",
       "[5094 rows x 2 columns]"
      ]
     },
     "execution_count": 19,
     "metadata": {},
     "output_type": "execute_result"
    }
   ],
   "source": [
    "df = yf.download(['^GSPC', '^VIX'], start='2000-01-01', end='2020-04-01', progress=False)\n",
    "df = df[['Adj Close']]\n",
    "df.columns = df.columns.droplevel(0)\n",
    "df = df.rename(columns={'^GSPC': 'sp500', '^VIX': 'vix'})\n",
    "df"
   ]
  },
  {
   "cell_type": "code",
   "execution_count": 22,
   "metadata": {},
   "outputs": [],
   "source": [
    "df['log_rtn'] = np.log(df.sp500 / df.sp500.shift(1))\n",
    "df['vol_rtn'] = np.log(df.vix / df.vix.shift(1))\n",
    "df.dropna(how='any', axis=0, inplace=True)"
   ]
  },
  {
   "cell_type": "code",
   "execution_count": 37,
   "metadata": {},
   "outputs": [
    {
     "data": {
      "image/png": "[encoded data removed]",
      "text/plain": [
       "<Figure size 432x288 with 1 Axes>"
      ]
     },
     "metadata": {
      "needs_background": "light"
     },
     "output_type": "display_data"
    }
   ],
   "source": [
    "corr_coeff = df.log_rtn.corr(df.vol_rtn)\n",
    "ax = sns.regplot(x='log_rtn', y='vol_rtn', data=df, line_kws={'color':'red'})\n",
    "ax.set(title=f'S&P 500 vs. VIX ($\\\\rho$ = {corr_coeff:.2f})', ylabel='VIX log returns', xlabel='S&P 500 log returns')\n",
    "plt.style.use('bmh')"
   ]
  },
  {
   "cell_type": "code",
   "execution_count": 25,
   "metadata": {},
   "outputs": [
    {
     "data": {
      "text/plain": [
       "-0.7298504429609561"
      ]
     },
     "execution_count": 25,
     "metadata": {},
     "output_type": "execute_result"
    }
   ],
   "source": []
  },
  {
   "cell_type": "code",
   "execution_count": null,
   "metadata": {},
   "outputs": [],
   "source": []
  }
 ],
 "metadata": {
  "kernelspec": {
   "display_name": "Python 3",
   "language": "python",
   "name": "python3"
  },
  "language_info": {
   "codemirror_mode": {
    "name": "ipython",
    "version": 3
   },
   "file_extension": ".py",
   "mimetype": "text/x-python",
   "name": "python",
   "nbconvert_exporter": "python",
   "pygments_lexer": "ipython3",
   "version": "3.7.4"
  }
 },
 "nbformat": 4,
 "nbformat_minor": 2
}
