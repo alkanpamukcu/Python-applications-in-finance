{
 "cells": [
  {
   "cell_type": "code",
   "execution_count": 1,
   "metadata": {},
   "outputs": [],
   "source": [
    "# Vectorization of Code\n",
    "import numpy as np"
   ]
  },
  {
   "cell_type": "code",
   "execution_count": 2,
   "metadata": {},
   "outputs": [],
   "source": [
    "r = np.random.standard_normal((4,3))\n",
    "s = np.random.standard_normal((4,3))"
   ]
  },
  {
   "cell_type": "code",
   "execution_count": 5,
   "metadata": {},
   "outputs": [
    {
     "data": {
      "text/plain": [
       "array([[-0.65073597, -0.97960196, -0.57440784],\n",
       "       [ 1.31726573,  0.65422273,  0.02481705],\n",
       "       [-0.64485184, -0.85605653, -3.31205589],\n",
       "       [-0.63960748,  1.76930289,  2.17426854]])"
      ]
     },
     "execution_count": 5,
     "metadata": {},
     "output_type": "execute_result"
    }
   ],
   "source": [
    "r+s"
   ]
  },
  {
   "cell_type": "code",
   "execution_count": 6,
   "metadata": {},
   "outputs": [
    {
     "data": {
      "text/plain": [
       "array([[ 2.38580546,  0.83115107,  3.29126101],\n",
       "       [ 5.68820034,  4.52936108,  5.33392257],\n",
       "       [ 3.37356946, -0.17859629,  0.81473118],\n",
       "       [ 0.58079474,  5.92759553,  4.03479663]])"
      ]
     },
     "execution_count": 6,
     "metadata": {},
     "output_type": "execute_result"
    }
   ],
   "source": [
    "2*r + 3"
   ]
  },
  {
   "cell_type": "code",
   "execution_count": 7,
   "metadata": {},
   "outputs": [],
   "source": [
    "s = np.random.standard_normal(3) # no need for the exact same shape"
   ]
  },
  {
   "cell_type": "code",
   "execution_count": 13,
   "metadata": {},
   "outputs": [
    {
     "data": {
      "text/plain": [
       "array([[-1.74123522, -1.67449327,  1.81210799],\n",
       "       [-0.09003778,  0.17461174,  2.83343877],\n",
       "       [-1.24735321, -2.17936695,  0.57384307],\n",
       "       [-2.64374057,  0.87372896,  2.18387579]])"
      ]
     },
     "execution_count": 13,
     "metadata": {},
     "output_type": "execute_result"
    }
   ],
   "source": [
    "s + r"
   ]
  },
  {
   "cell_type": "code",
   "execution_count": 14,
   "metadata": {},
   "outputs": [],
   "source": [
    "s = np.random.standard_normal(4) "
   ]
  },
  {
   "cell_type": "code",
   "execution_count": 16,
   "metadata": {},
   "outputs": [
    {
     "ename": "ValueError",
     "evalue": "operands could not be broadcast together with shapes (4,3) (4,) ",
     "output_type": "error",
     "traceback": [
      "\u001b[1;31m---------------------------------------------------------------------------\u001b[0m",
      "\u001b[1;31mValueError\u001b[0m                                Traceback (most recent call last)",
      "\u001b[1;32m<ipython-input-16-9486774374aa>\u001b[0m in \u001b[0;36m<module>\u001b[1;34m\u001b[0m\n\u001b[1;32m----> 1\u001b[1;33m \u001b[0mr\u001b[0m\u001b[1;33m+\u001b[0m\u001b[0ms\u001b[0m \u001b[1;31m# This broadcasts the one-dimensional array of size 3 to a shape of (4, 3). The same does\u001b[0m\u001b[1;33m\u001b[0m\u001b[1;33m\u001b[0m\u001b[0m\n\u001b[0m\u001b[0;32m      2\u001b[0m     \u001b[1;31m#not work, for example, with a one-dimensional array of size 4\u001b[0m\u001b[1;33m\u001b[0m\u001b[1;33m\u001b[0m\u001b[1;33m\u001b[0m\u001b[0m\n",
      "\u001b[1;31mValueError\u001b[0m: operands could not be broadcast together with shapes (4,3) (4,) "
     ]
    }
   ],
   "source": [
    "r+s # This broadcasts the one-dimensional array of size 3 to a shape of (4, 3). The same does\n",
    "    #not work, for example, with a one-dimensional array of size 4"
   ]
  },
  {
   "cell_type": "code",
   "execution_count": 17,
   "metadata": {},
   "outputs": [
    {
     "data": {
      "text/plain": [
       "array([[-0.72480274, -0.00609034,  0.59514546, -2.34982491],\n",
       "       [-1.50212994, -0.58550997, -1.18093742,  0.32357548],\n",
       "       [-0.27207497, -0.18322923, -0.68427369, -0.62282397]])"
      ]
     },
     "execution_count": 17,
     "metadata": {},
     "output_type": "execute_result"
    }
   ],
   "source": [
    "r.transpose() + s"
   ]
  },
  {
   "cell_type": "code",
   "execution_count": 18,
   "metadata": {},
   "outputs": [
    {
     "data": {
      "text/plain": [
       "(3, 4)"
      ]
     },
     "execution_count": 18,
     "metadata": {},
     "output_type": "execute_result"
    }
   ],
   "source": [
    "np.shape(r.T)"
   ]
  },
  {
   "cell_type": "code",
   "execution_count": 19,
   "metadata": {},
   "outputs": [
    {
     "data": {
      "text/plain": [
       "(4, 3)"
      ]
     },
     "execution_count": 19,
     "metadata": {},
     "output_type": "execute_result"
    }
   ],
   "source": [
    "np.shape(r)"
   ]
  },
  {
   "cell_type": "code",
   "execution_count": 20,
   "metadata": {},
   "outputs": [],
   "source": [
    "# custom-defined Python functions work with numpy.ndarrays as well\n",
    "def f(x):\n",
    "    return 3*x + 5"
   ]
  },
  {
   "cell_type": "code",
   "execution_count": 21,
   "metadata": {},
   "outputs": [
    {
     "data": {
      "text/plain": [
       "6.5"
      ]
     },
     "execution_count": 21,
     "metadata": {},
     "output_type": "execute_result"
    }
   ],
   "source": [
    "f(0.5)"
   ]
  },
  {
   "cell_type": "code",
   "execution_count": 22,
   "metadata": {},
   "outputs": [
    {
     "data": {
      "text/plain": [
       "array([[4.07870819, 1.7467266 , 5.43689151],\n",
       "       [9.03230051, 7.29404163, 8.50088386],\n",
       "       [5.56035419, 0.23210557, 1.72209676],\n",
       "       [1.37119211, 9.39139329, 6.55219494]])"
      ]
     },
     "execution_count": 22,
     "metadata": {},
     "output_type": "execute_result"
    }
   ],
   "source": [
    "f(r)"
   ]
  },
  {
   "cell_type": "code",
   "execution_count": 23,
   "metadata": {},
   "outputs": [
    {
     "ename": "TypeError",
     "evalue": "only size-1 arrays can be converted to Python scalars",
     "output_type": "error",
     "traceback": [
      "\u001b[1;31m---------------------------------------------------------------------------\u001b[0m",
      "\u001b[1;31mTypeError\u001b[0m                                 Traceback (most recent call last)",
      "\u001b[1;32m<ipython-input-23-c3f36d894fd8>\u001b[0m in \u001b[0;36m<module>\u001b[1;34m\u001b[0m\n\u001b[0;32m      3\u001b[0m \u001b[1;31m# Python does not work with NumPy arrays:\u001b[0m\u001b[1;33m\u001b[0m\u001b[1;33m\u001b[0m\u001b[1;33m\u001b[0m\u001b[0m\n\u001b[0;32m      4\u001b[0m \u001b[1;32mimport\u001b[0m \u001b[0mmath\u001b[0m\u001b[1;33m\u001b[0m\u001b[1;33m\u001b[0m\u001b[0m\n\u001b[1;32m----> 5\u001b[1;33m \u001b[0mmath\u001b[0m\u001b[1;33m.\u001b[0m\u001b[0msin\u001b[0m\u001b[1;33m(\u001b[0m\u001b[0mr\u001b[0m\u001b[1;33m)\u001b[0m\u001b[1;33m\u001b[0m\u001b[1;33m\u001b[0m\u001b[0m\n\u001b[0m",
      "\u001b[1;31mTypeError\u001b[0m: only size-1 arrays can be converted to Python scalars"
     ]
    }
   ],
   "source": [
    "# When working with arrays, one has to take care to call the right functions on the respective\n",
    "# objects. For example, the sin function from the standard math module of\n",
    "# Python does not work with NumPy arrays:\n",
    "import math\n",
    "math.sin(r)"
   ]
  },
  {
   "cell_type": "code",
   "execution_count": 26,
   "metadata": {},
   "outputs": [
    {
     "data": {
      "text/plain": [
       "array([[-0.30229299, -0.88403454,  0.14511629],\n",
       "       [ 0.97441428,  0.69230651,  0.91956079],\n",
       "       [ 0.18570052, -0.99982885, -0.88784221],\n",
       "       [-0.93547565,  0.99428111,  0.49462067]])"
      ]
     },
     "execution_count": 26,
     "metadata": {},
     "output_type": "execute_result"
    }
   ],
   "source": [
    "# The function is designed to handle, for example, float objects—i.e., single numbers,\n",
    "# not arrays. NumPy provides the respective counterparts\n",
    "np.sin(r) # array as input"
   ]
  },
  {
   "cell_type": "code",
   "execution_count": 27,
   "metadata": {},
   "outputs": [
    {
     "data": {
      "text/plain": [
       "1.2246467991473532e-16"
      ]
     },
     "execution_count": 27,
     "metadata": {},
     "output_type": "execute_result"
    }
   ],
   "source": [
    "np.sin(np.pi)  #float as input"
   ]
  },
  {
   "cell_type": "code",
   "execution_count": 79,
   "metadata": {},
   "outputs": [],
   "source": [
    "x = np.random.standard_normal((5, 4))\n",
    "y = 2*x + 3 #linear equation\n",
    "C = np.array((x,y))\n",
    "F = np.array((x,y), order = 'F')\n",
    "x= 0.0; y = 0.0 #memory cleanup"
   ]
  },
  {
   "cell_type": "code",
   "execution_count": 80,
   "metadata": {},
   "outputs": [
    {
     "data": {
      "text/plain": [
       "array([[[ 0.86,  1.09, -1.42,  2.03],\n",
       "        [ 0.03, -0.96, -0.18, -1.32],\n",
       "        [ 0.63, -0.64,  1.76,  0.59],\n",
       "        [-2.64,  1.3 ,  0.42, -1.2 ],\n",
       "        [-0.08, -0.24,  0.02, -0.01]],\n",
       "\n",
       "       [[ 4.72,  5.19,  0.16,  7.06],\n",
       "        [ 3.06,  1.09,  2.64,  0.36],\n",
       "        [ 4.27,  1.72,  6.53,  4.19],\n",
       "        [-2.28,  5.61,  3.85,  0.6 ],\n",
       "        [ 2.85,  2.53,  3.04,  2.99]]])"
      ]
     },
     "execution_count": 80,
     "metadata": {},
     "output_type": "execute_result"
    }
   ],
   "source": [
    "C.round(2)"
   ]
  },
  {
   "cell_type": "code",
   "execution_count": 81,
   "metadata": {},
   "outputs": [
    {
     "data": {
      "text/plain": [
       "array([[[ 0.86,  1.09, -1.42,  2.03],\n",
       "        [ 0.03, -0.96, -0.18, -1.32],\n",
       "        [ 0.63, -0.64,  1.76,  0.59],\n",
       "        [-2.64,  1.3 ,  0.42, -1.2 ],\n",
       "        [-0.08, -0.24,  0.02, -0.01]],\n",
       "\n",
       "       [[ 4.72,  5.19,  0.16,  7.06],\n",
       "        [ 3.06,  1.09,  2.64,  0.36],\n",
       "        [ 4.27,  1.72,  6.53,  4.19],\n",
       "        [-2.28,  5.61,  3.85,  0.6 ],\n",
       "        [ 2.85,  2.53,  3.04,  2.99]]])"
      ]
     },
     "execution_count": 81,
     "metadata": {},
     "output_type": "execute_result"
    }
   ],
   "source": [
    "F.round(2)"
   ]
  },
  {
   "cell_type": "code",
   "execution_count": 52,
   "metadata": {},
   "outputs": [
    {
     "data": {
      "text/plain": [
       "(2, 5, 10000000)"
      ]
     },
     "execution_count": 52,
     "metadata": {},
     "output_type": "execute_result"
    }
   ],
   "source": []
  },
  {
   "cell_type": "code",
   "execution_count": null,
   "metadata": {},
   "outputs": [],
   "source": []
  }
 ],
 "metadata": {
  "kernelspec": {
   "display_name": "Python 3",
   "language": "python",
   "name": "python3"
  },
  "language_info": {
   "codemirror_mode": {
    "name": "ipython",
    "version": 3
   },
   "file_extension": ".py",
   "mimetype": "text/x-python",
   "name": "python",
   "nbconvert_exporter": "python",
   "pygments_lexer": "ipython3",
   "version": "3.7.4"
  }
 },
 "nbformat": 4,
 "nbformat_minor": 2
}
