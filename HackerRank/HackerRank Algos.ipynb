{
 "cells": [
  {
   "cell_type": "code",
   "execution_count": 9,
   "metadata": {},
   "outputs": [],
   "source": [
    "l=[]\n",
    "def simpleArraySum():\n",
    "    total=0\n",
    "    A=int(input('please enter an integer for your array  '))\n",
    "    while True:\n",
    "        B=int(input('please enter each element for your array  '))\n",
    "        l.append(B)\n",
    "        A=A-1\n",
    "        if A==0:\n",
    "            break\n",
    "    for ar in l:\n",
    "        total=total+ar\n",
    "    return total\n"
   ]
  },
  {
   "cell_type": "code",
   "execution_count": 10,
   "metadata": {},
   "outputs": [
    {
     "name": "stdout",
     "output_type": "stream",
     "text": [
      "please enter an integer for your array  5\n",
      "please enter each element for your array  10\n",
      "please enter each element for your array  2\n",
      "please enter each element for your array  3\n",
      "please enter each element for your array  5\n",
      "please enter each element for your array  2\n"
     ]
    },
    {
     "data": {
      "text/plain": [
       "22"
      ]
     },
     "execution_count": 10,
     "metadata": {},
     "output_type": "execute_result"
    }
   ],
   "source": [
    "simpleArraySum()"
   ]
  },
  {
   "cell_type": "code",
   "execution_count": null,
   "metadata": {},
   "outputs": [],
   "source": []
  }
 ],
 "metadata": {
  "kernelspec": {
   "display_name": "Python 3",
   "language": "python",
   "name": "python3"
  },
  "language_info": {
   "codemirror_mode": {
    "name": "ipython",
    "version": 3
   },
   "file_extension": ".py",
   "mimetype": "text/x-python",
   "name": "python",
   "nbconvert_exporter": "python",
   "pygments_lexer": "ipython3",
   "version": "3.7.4"
  }
 },
 "nbformat": 4,
 "nbformat_minor": 2
}
