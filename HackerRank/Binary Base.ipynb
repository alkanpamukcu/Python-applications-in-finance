{
 "cells": [
  {
   "cell_type": "code",
   "execution_count": 9,
   "metadata": {},
   "outputs": [
    {
     "name": "stdout",
     "output_type": "stream",
     "text": [
      "3\n",
      "2\n"
     ]
    }
   ],
   "source": [
    "#finding consecutive 1's in binary base\n",
    "\n",
    "max_one_count = 0\n",
    "one_count = 0\n",
    "\n",
    "n=int(input())\n",
    "while n != 0:\n",
    "    factor = n // 2\n",
    "    remainder = n - 2 * factor\n",
    "    n = factor\n",
    "    if remainder == 1:\n",
    "        one_count += 1\n",
    "        max_one_count = max(max_one_count, one_count)\n",
    "    else:\n",
    "        one_count = 0\n",
    "\n",
    "print(max_one_count)"
   ]
  },
  {
   "cell_type": "code",
   "execution_count": null,
   "metadata": {},
   "outputs": [],
   "source": []
  },
  {
   "cell_type": "code",
   "execution_count": null,
   "metadata": {},
   "outputs": [],
   "source": []
  }
 ],
 "metadata": {
  "kernelspec": {
   "display_name": "Python 3",
   "language": "python",
   "name": "python3"
  },
  "language_info": {
   "codemirror_mode": {
    "name": "ipython",
    "version": 3
   },
   "file_extension": ".py",
   "mimetype": "text/x-python",
   "name": "python",
   "nbconvert_exporter": "python",
   "pygments_lexer": "ipython3",
   "version": "3.7.4"
  }
 },
 "nbformat": 4,
 "nbformat_minor": 2
}
