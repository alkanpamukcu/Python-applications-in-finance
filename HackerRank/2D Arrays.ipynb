{
 "cells": [
  {
   "cell_type": "code",
   "execution_count": 26,
   "metadata": {},
   "outputs": [
    {
     "name": "stdout",
     "output_type": "stream",
     "text": [
      "2 3 3 3 3 3\n",
      "3 3 3 3 3 3 \n",
      "4 4 4 4 4 4 \n",
      "5 5 5 5 5 5 \n",
      "8 8 8 8 8 8 \n",
      "9 9 9 9 9 9 \n",
      "50\n"
     ]
    }
   ],
   "source": [
    "grid = list()\n",
    "\n",
    "for i in range(6):\n",
    "    row = input().strip().split(' ')\n",
    "    row = list(map(int, row))\n",
    "    grid.append(row)\n",
    "\n",
    "def _get_hourglass_sum(grid, i, j):\n",
    "    sum = 0\n",
    "    sum += grid[i-1][j-1]\n",
    "    sum += grid[i-1][j]\n",
    "    sum += grid[i-1][j+1]\n",
    "    sum += grid[i][j]\n",
    "    sum += grid[i+1][j-1]\n",
    "    sum += grid[i+1][j]\n",
    "    sum += grid[i+1][j+1]\n",
    "    return sum\n",
    "\n",
    "# start max_hourglass_sum at smallest possible hourglass\n",
    "max_hourglass_sum = -63\n",
    "for i in range(1,5):\n",
    "    for j in range(1, 5):\n",
    "        current_hourglass_sum = _get_hourglass_sum(grid, i, j)\n",
    "        if current_hourglass_sum > max_hourglass_sum:\n",
    "            max_hourglass_sum = current_hourglass_sum\n",
    "\n",
    "print(max_hourglass_sum)"
   ]
  },
  {
   "cell_type": "code",
   "execution_count": null,
   "metadata": {},
   "outputs": [],
   "source": []
  },
  {
   "cell_type": "code",
   "execution_count": null,
   "metadata": {},
   "outputs": [],
   "source": []
  },
  {
   "cell_type": "code",
   "execution_count": null,
   "metadata": {},
   "outputs": [],
   "source": []
  },
  {
   "cell_type": "code",
   "execution_count": null,
   "metadata": {},
   "outputs": [],
   "source": []
  },
  {
   "cell_type": "code",
   "execution_count": null,
   "metadata": {},
   "outputs": [],
   "source": []
  }
 ],
 "metadata": {
  "kernelspec": {
   "display_name": "Python 3",
   "language": "python",
   "name": "python3"
  },
  "language_info": {
   "codemirror_mode": {
    "name": "ipython",
    "version": 3
   },
   "file_extension": ".py",
   "mimetype": "text/x-python",
   "name": "python",
   "nbconvert_exporter": "python",
   "pygments_lexer": "ipython3",
   "version": "3.7.4"
  }
 },
 "nbformat": 4,
 "nbformat_minor": 2
}
