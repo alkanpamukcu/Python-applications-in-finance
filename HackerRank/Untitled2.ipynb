{
 "cells": [
  {
   "cell_type": "code",
   "execution_count": null,
   "metadata": {},
   "outputs": [],
   "source": [
    "\n",
    "N = int(input())\n",
    "d = dict()\n",
    "\n",
    "for _ in range(0, N):\n",
    "    name, number = input().split()\n",
    "    d[name] = number\n",
    "\n",
    "while True:\n",
    "    try:\n",
    "        name = input()\n",
    "        if name in d:\n",
    "            print(\"{}={}\".format(name, d[name]))\n",
    "        else:\n",
    "            print(\"Not found\")\n",
    "    except EOFError:\n",
    "        break"
   ]
  },
  {
   "cell_type": "code",
   "execution_count": null,
   "metadata": {},
   "outputs": [],
   "source": []
  }
 ],
 "metadata": {
  "kernelspec": {
   "display_name": "Python 3",
   "language": "python",
   "name": "python3"
  },
  "language_info": {
   "codemirror_mode": {
    "name": "ipython",
    "version": 3
   },
   "file_extension": ".py",
   "mimetype": "text/x-python",
   "name": "python",
   "nbconvert_exporter": "python",
   "pygments_lexer": "ipython3",
   "version": "3.7.4"
  }
 },
 "nbformat": 4,
 "nbformat_minor": 2
}
