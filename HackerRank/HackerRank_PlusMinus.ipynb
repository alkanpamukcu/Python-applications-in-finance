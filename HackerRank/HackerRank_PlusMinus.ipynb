{
 "cells": [
  {
   "cell_type": "code",
   "execution_count": 4,
   "metadata": {},
   "outputs": [],
   "source": [
    "import math\n",
    "import os\n",
    "import random\n",
    "import re\n",
    "import sys\n",
    "import numpy as np\n",
    "import pandas as pd"
   ]
  },
  {
   "cell_type": "code",
   "execution_count": 34,
   "metadata": {},
   "outputs": [],
   "source": [
    "def plusMinus(arr):\n",
    "    positive=[]\n",
    "    negative=[]\n",
    "    zero=[]\n",
    "    n=len(arr)\n",
    "    if n < 100 or n==100:\n",
    "        for i in range(len(arr)):\n",
    "            if abs(arr[i])==100 or abs(arr[i])<100:\n",
    "                if arr[i] > 0:\n",
    "                    positive.append(arr[i])\n",
    "                elif arr[i] < 0:\n",
    "                    negative.append(arr[i])\n",
    "                elif arr[i] == 0:\n",
    "                    zero.append(arr[i])\n",
    "    positive_result= float(len(positive)/n)\n",
    "    negative_result= float(len(negative)/n)\n",
    "    zero_result= float(len(zero)/n)\n",
    "    print(\"{0:.6f}\".format(positive_result))\n",
    "    print(\"{0:.6f}\".format(negative_result))\n",
    "    print(\"{0:.6f}\".format(zero_result))"
   ]
  },
  {
   "cell_type": "code",
   "execution_count": 35,
   "metadata": {},
   "outputs": [],
   "source": [
    "a= [0 ,100, 35, 0, 94, 40, 42, 87, 59, 0 ]"
   ]
  },
  {
   "cell_type": "code",
   "execution_count": 36,
   "metadata": {},
   "outputs": [
    {
     "name": "stdout",
     "output_type": "stream",
     "text": [
      "0.700000\n",
      "0.000000\n",
      "0.300000\n"
     ]
    }
   ],
   "source": [
    "plusMinus(a)"
   ]
  },
  {
   "cell_type": "code",
   "execution_count": 25,
   "metadata": {},
   "outputs": [
    {
     "data": {
      "text/plain": [
       "3"
      ]
     },
     "execution_count": 25,
     "metadata": {},
     "output_type": "execute_result"
    }
   ],
   "source": [
    "a=[5,2,1]\n",
    "len(a)"
   ]
  },
  {
   "cell_type": "code",
   "execution_count": null,
   "metadata": {},
   "outputs": [],
   "source": []
  }
 ],
 "metadata": {
  "kernelspec": {
   "display_name": "Python 3",
   "language": "python",
   "name": "python3"
  },
  "language_info": {
   "codemirror_mode": {
    "name": "ipython",
    "version": 3
   },
   "file_extension": ".py",
   "mimetype": "text/x-python",
   "name": "python",
   "nbconvert_exporter": "python",
   "pygments_lexer": "ipython3",
   "version": "3.7.4"
  }
 },
 "nbformat": 4,
 "nbformat_minor": 2
}
