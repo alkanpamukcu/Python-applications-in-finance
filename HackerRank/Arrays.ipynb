{
 "cells": [
  {
   "cell_type": "code",
   "execution_count": 28,
   "metadata": {},
   "outputs": [
    {
     "name": "stdout",
     "output_type": "stream",
     "text": [
      "33\n",
      "543543\n",
      "345345\n",
      "345345\n",
      "34543543\n",
      "57567\n",
      "567657\n",
      "58678\n",
      "6786786\n",
      "34543\n",
      "35434\n",
      "345\n",
      "345\n",
      "345\n",
      "345\n",
      "567\n",
      "567\n",
      "567\n",
      "57\n",
      "689\n",
      "789\n",
      "234\n",
      "25\n",
      "436\n",
      "56\n",
      "76785\n",
      "356456\n",
      "234\n",
      "4234356\n",
      "234235\n",
      "456456\n",
      "234234\n",
      "3534\n",
      "2433565\n",
      "2433565 3534 234234 456456 234235 4234356 234 356456 76785 56 436 25 234 789 689 57 567 567 567 345 345 345 345 35434 34543 6786786 58678 567657 57567 34543543 345345 345345 543543\n"
     ]
    }
   ],
   "source": [
    "line = int(input())\n",
    "list1=[]\n",
    "for i in range (0, line):\n",
    "    number=int(input())\n",
    "    list1.append(number)\n",
    "    list2=[]\n",
    "    for i in range(len(list1)):\n",
    "        list2.append(list1[len(list1)-1-i])\n",
    "print(\" \".join(str(x) for x in list2))"
   ]
  },
  {
   "cell_type": "code",
   "execution_count": null,
   "metadata": {},
   "outputs": [],
   "source": []
  },
  {
   "cell_type": "code",
   "execution_count": 5,
   "metadata": {},
   "outputs": [
    {
     "name": "stdout",
     "output_type": "stream",
     "text": [
      "3\n"
     ]
    }
   ],
   "source": [
    "for i in list2:\n",
    "    a=''\n",
    "    a= a + '{}'.format(i)\n",
    "print(a)"
   ]
  },
  {
   "cell_type": "code",
   "execution_count": 22,
   "metadata": {},
   "outputs": [],
   "source": [
    "a=int()"
   ]
  },
  {
   "cell_type": "code",
   "execution_count": 20,
   "metadata": {},
   "outputs": [],
   "source": [
    "a='d'"
   ]
  },
  {
   "cell_type": "code",
   "execution_count": 21,
   "metadata": {},
   "outputs": [
    {
     "data": {
      "text/plain": [
       "str"
      ]
     },
     "execution_count": 21,
     "metadata": {},
     "output_type": "execute_result"
    }
   ],
   "source": [
    "type(a)"
   ]
  },
  {
   "cell_type": "code",
   "execution_count": 23,
   "metadata": {},
   "outputs": [
    {
     "data": {
      "text/plain": [
       "int"
      ]
     },
     "execution_count": 23,
     "metadata": {},
     "output_type": "execute_result"
    }
   ],
   "source": [
    "type(a)"
   ]
  },
  {
   "cell_type": "code",
   "execution_count": null,
   "metadata": {},
   "outputs": [],
   "source": []
  }
 ],
 "metadata": {
  "kernelspec": {
   "display_name": "Python 3",
   "language": "python",
   "name": "python3"
  },
  "language_info": {
   "codemirror_mode": {
    "name": "ipython",
    "version": 3
   },
   "file_extension": ".py",
   "mimetype": "text/x-python",
   "name": "python",
   "nbconvert_exporter": "python",
   "pygments_lexer": "ipython3",
   "version": "3.7.4"
  }
 },
 "nbformat": 4,
 "nbformat_minor": 2
}
